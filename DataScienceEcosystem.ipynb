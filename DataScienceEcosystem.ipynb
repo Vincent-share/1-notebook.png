{
 "cells": [
  {
   "cell_type": "markdown",
   "id": "181bfb4c-153f-499c-9612-8067cd70f9aa",
   "metadata": {},
   "source": [
    "Data Science Tools and Ecosystem"
   ]
  },
  {
   "cell_type": "markdown",
   "id": "cff7b5e6-2288-4bd1-9172-b2a8857baaef",
   "metadata": {},
   "source": [
    "In this notebook, Data Science Tools and Ecosystem are summerized."
   ]
  },
  {
   "cell_type": "markdown",
   "id": "64a21784-1b7a-411d-9eaf-b0f8771fdd38",
   "metadata": {},
   "source": [
    "**Objectives:**\n",
    "\r",
    "\r\n",
    "- List popular languages for Data Science.\r\n",
    "- Identify key libraries used in Data Science.\r\n",
    "- Explore open-source development tools.\r\n",
    "- Understand the basics of machine learning workflows.\r\n",
    "- Analyze data with Python and R.\r\n",
    "on\"\r\n"
   ]
  },
  {
   "cell_type": "markdown",
   "id": "d6b44ede-2b61-489d-819e-801aab7be529",
   "metadata": {},
   "source": [
    "Some of the popular languages that Data Scientists use are:\n",
    "\n",
    "1. Python\n",
    "2. R\n",
    "3. SQL\n",
    "4. Java"
   ]
  },
  {
   "cell_type": "markdown",
   "id": "6e57753b-b1e0-41d7-8a58-8a1780e4de0c",
   "metadata": {},
   "source": [
    "Some of the commonly used libraries used by Data Scientists include: \n",
    "\n",
    "1. Panada\n",
    "2. Numpy\n",
    "3. SciPy\n",
    "4. Matplotlib"
   ]
  },
  {
   "cell_type": "markdown",
   "id": "f5daba83-afdb-4ae5-ab2c-2bb77db63814",
   "metadata": {},
   "source": [
    "|Data Science Tools|\n",
    "|---|\n",
    "|Jupyter Notebook|\n",
    "|RSudio|\n",
    "|Apache Zeppelin|\n",
    "\n"
   ]
  },
  {
   "cell_type": "markdown",
   "id": "325c5fc2-ce50-4702-afa9-5d0f3a43de5e",
   "metadata": {},
   "source": [
    "Below are a few examples of evaluating arithmetic expressions in Python"
   ]
  },
  {
   "cell_type": "code",
   "execution_count": 14,
   "id": "07c769fa-2236-4008-939a-0a0fae259b60",
   "metadata": {},
   "outputs": [
    {
     "data": {
      "text/plain": [
       "17"
      ]
     },
     "execution_count": 14,
     "metadata": {},
     "output_type": "execute_result"
    }
   ],
   "source": [
    "# this a simple arithmetic expression to multiply then add integers\n",
    "\n",
    "(3*4)+5"
   ]
  },
  {
   "cell_type": "code",
   "execution_count": 16,
   "id": "76b136cb-cf68-4c0b-9143-48500944db9a",
   "metadata": {},
   "outputs": [
    {
     "data": {
      "text/plain": [
       "3.3333333333333335"
      ]
     },
     "execution_count": 16,
     "metadata": {},
     "output_type": "execute_result"
    }
   ],
   "source": [
    "# this will convert 200 minutes to hours by diving by 60 \n",
    "200/60"
   ]
  },
  {
   "cell_type": "markdown",
   "id": "f492680f-6486-4471-be24-5bdc0712eba2",
   "metadata": {},
   "source": [
    "## Author\n",
    "\n",
    "HAN-PIN, HUNG"
   ]
  },
  {
   "cell_type": "code",
   "execution_count": null,
   "id": "eaec0515-84f4-4d19-9c44-7bdf0595bacc",
   "metadata": {},
   "outputs": [],
   "source": []
  }
 ],
 "metadata": {
  "kernelspec": {
   "display_name": "Python 3 (ipykernel)",
   "language": "python",
   "name": "python3"
  },
  "language_info": {
   "codemirror_mode": {
    "name": "ipython",
    "version": 3
   },
   "file_extension": ".py",
   "mimetype": "text/x-python",
   "name": "python",
   "nbconvert_exporter": "python",
   "pygments_lexer": "ipython3",
   "version": "3.11.7"
  }
 },
 "nbformat": 4,
 "nbformat_minor": 5
}
